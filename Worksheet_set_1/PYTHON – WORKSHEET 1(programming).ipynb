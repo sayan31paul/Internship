{
 "cells": [
  {
   "cell_type": "markdown",
   "id": "6ca31fba",
   "metadata": {},
   "source": [
    "# 11. Write a python program to find the factorial of a number."
   ]
  },
  {
   "cell_type": "code",
   "execution_count": 11,
   "id": "04e9c3a3",
   "metadata": {},
   "outputs": [],
   "source": [
    "def factorial(n):\n",
    "    if n < 0:\n",
    "        return 0\n",
    "    elif n == 0 or n == 1:\n",
    "        return 1\n",
    "    else:\n",
    "        fact = 1\n",
    "        for i in range(1,n+1):\n",
    "            fact = fact*i\n",
    "            \n",
    "        return fact"
   ]
  },
  {
   "cell_type": "code",
   "execution_count": 12,
   "id": "1d7f75cf",
   "metadata": {},
   "outputs": [
    {
     "data": {
      "text/plain": [
       "120"
      ]
     },
     "execution_count": 12,
     "metadata": {},
     "output_type": "execute_result"
    }
   ],
   "source": [
    "factorial(5)"
   ]
  },
  {
   "cell_type": "markdown",
   "id": "09598642",
   "metadata": {},
   "source": [
    "# 12.Write a python program to find whether a number is prime or composite"
   ]
  },
  {
   "cell_type": "code",
   "execution_count": 38,
   "id": "b8c529f1",
   "metadata": {},
   "outputs": [],
   "source": [
    "def prime_composite(a):\n",
    "    if a>1:\n",
    "        for j in range(2, int(a/2) + 1): \n",
    "            if (a % j) == 0:\n",
    "                print(a, \"is not a prime number\") \n",
    "                break\n",
    "        else:\n",
    "            print(a, \"is a prime number\") \n",
    "    else:\n",
    "        print('Enter value greater than 1')\n",
    "                "
   ]
  },
  {
   "cell_type": "code",
   "execution_count": 39,
   "id": "34ebffb7",
   "metadata": {},
   "outputs": [
    {
     "name": "stdout",
     "output_type": "stream",
     "text": [
      "91 is not a prime number\n"
     ]
    }
   ],
   "source": [
    "prime_composite(91)"
   ]
  },
  {
   "cell_type": "code",
   "execution_count": 40,
   "id": "915c07bd",
   "metadata": {},
   "outputs": [
    {
     "name": "stdout",
     "output_type": "stream",
     "text": [
      "97 is a prime number\n"
     ]
    }
   ],
   "source": [
    "prime_composite(97)"
   ]
  },
  {
   "cell_type": "code",
   "execution_count": 41,
   "id": "782208dd",
   "metadata": {},
   "outputs": [
    {
     "name": "stdout",
     "output_type": "stream",
     "text": [
      "Enter value greater than 1\n"
     ]
    }
   ],
   "source": [
    "prime_composite(1)"
   ]
  },
  {
   "cell_type": "markdown",
   "id": "76b5ac56",
   "metadata": {},
   "source": [
    "# 13. Write a python program to check whether a given string is palindrome or not."
   ]
  },
  {
   "cell_type": "code",
   "execution_count": 55,
   "id": "ec65c009",
   "metadata": {},
   "outputs": [],
   "source": [
    "def Palindrome(string):\n",
    "    for i in range(0, int(len(string)/2)):\n",
    "        if string[i] != string[len(string)-i-1]:\n",
    "            print('Not a palindrome')\n",
    "            break\n",
    "            \n",
    "    else:\n",
    "        print('It is a palindrome')\n",
    "    "
   ]
  },
  {
   "cell_type": "code",
   "execution_count": 56,
   "id": "818ce200",
   "metadata": {},
   "outputs": [
    {
     "name": "stdout",
     "output_type": "stream",
     "text": [
      "It is a palindrome\n"
     ]
    }
   ],
   "source": [
    "Palindrome('malayalam')"
   ]
  },
  {
   "cell_type": "code",
   "execution_count": 61,
   "id": "f84ef3a3",
   "metadata": {},
   "outputs": [
    {
     "name": "stdout",
     "output_type": "stream",
     "text": [
      "Not a palindrome\n"
     ]
    }
   ],
   "source": [
    "Palindrome('sayan')"
   ]
  },
  {
   "cell_type": "markdown",
   "id": "658d5cf3",
   "metadata": {},
   "source": [
    "# 14. Write a Python program to get the third side of right-angled triangle from two given sides."
   ]
  },
  {
   "cell_type": "code",
   "execution_count": 58,
   "id": "30ea6e85",
   "metadata": {},
   "outputs": [],
   "source": [
    "def Third_side(a,b):\n",
    "    print('Length of the third side is:',(a**2+b**2)**0.5)\n",
    "    "
   ]
  },
  {
   "cell_type": "code",
   "execution_count": 60,
   "id": "a59ffb2c",
   "metadata": {},
   "outputs": [
    {
     "name": "stdout",
     "output_type": "stream",
     "text": [
      "Length of the third side is: 5.0\n"
     ]
    }
   ],
   "source": [
    "Third_side(3,4)"
   ]
  },
  {
   "cell_type": "markdown",
   "id": "9c1c57d8",
   "metadata": {},
   "source": [
    "# 15. Write a python program to print the frequency of each of the characters present in a given string"
   ]
  },
  {
   "cell_type": "code",
   "execution_count": 67,
   "id": "61ce4736",
   "metadata": {},
   "outputs": [],
   "source": [
    "def freq_of_letters(test_str):\n",
    "    count = Counter(test_str)\n",
    "    print(count)"
   ]
  },
  {
   "cell_type": "code",
   "execution_count": 68,
   "id": "766a74ab",
   "metadata": {},
   "outputs": [
    {
     "name": "stdout",
     "output_type": "stream",
     "text": [
      "Counter({'Z': 1, 'e': 1, 'b': 1, 'r': 1, 'o': 1, 'n': 1, 'i': 1, 'c': 1, 's': 1})\n"
     ]
    }
   ],
   "source": [
    "freq_of_letters('Zebronics')"
   ]
  },
  {
   "cell_type": "code",
   "execution_count": null,
   "id": "3b1d858a",
   "metadata": {},
   "outputs": [],
   "source": []
  },
  {
   "cell_type": "code",
   "execution_count": null,
   "id": "74976800",
   "metadata": {},
   "outputs": [],
   "source": []
  },
  {
   "cell_type": "code",
   "execution_count": null,
   "id": "3aa2a890",
   "metadata": {},
   "outputs": [],
   "source": []
  }
 ],
 "metadata": {
  "kernelspec": {
   "display_name": "Python 3",
   "language": "python",
   "name": "python3"
  },
  "language_info": {
   "codemirror_mode": {
    "name": "ipython",
    "version": 3
   },
   "file_extension": ".py",
   "mimetype": "text/x-python",
   "name": "python",
   "nbconvert_exporter": "python",
   "pygments_lexer": "ipython3",
   "version": "3.8.8"
  }
 },
 "nbformat": 4,
 "nbformat_minor": 5
}
